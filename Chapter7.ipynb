{
 "cells": [
  {
   "attachments": {},
   "cell_type": "markdown",
   "metadata": {},
   "source": [
    "<span style=\"color:orange\">Maximum Likelihood Estimation (MLE)</span>"
   ]
  },
  {
   "attachments": {},
   "cell_type": "markdown",
   "metadata": {},
   "source": [
    "likelihood estimation\n",
    "ex) 압정이 떨어지는 부분 (베르누이 분포)\n",
    "\n",
    "theta에 따른 likelihood 곡선 그래프에서 최댓값(theta)을 찾는 것\n",
    "\n",
    "observation을 가장 잘 설명하는 theta를 찾아내는 과정\n",
    "\n",
    "Likelihood --> Gradient Ascent"
   ]
  },
  {
   "attachments": {},
   "cell_type": "markdown",
   "metadata": {},
   "source": [
    "<span style=\"color:orange\">Training and Test Dataset</span>"
   ]
  },
  {
   "cell_type": "code",
   "execution_count": 81,
   "metadata": {},
   "outputs": [
    {
     "name": "stdout",
     "output_type": "stream",
     "text": [
      "Epoch    0/20 Cost: 2.203667\n",
      "Epoch    1/20 Cost: 2.203667\n",
      "Epoch    2/20 Cost: 2.203667\n",
      "Epoch    3/20 Cost: 2.203667\n",
      "Epoch    4/20 Cost: 2.203667\n",
      "Epoch    5/20 Cost: 2.203667\n",
      "Epoch    6/20 Cost: 2.203667\n",
      "Epoch    7/20 Cost: 2.203667\n",
      "Epoch    8/20 Cost: 2.203667\n",
      "Epoch    9/20 Cost: 2.203667\n",
      "Epoch   10/20 Cost: 2.203667\n",
      "Epoch   11/20 Cost: 2.203667\n",
      "Epoch   12/20 Cost: 2.203667\n",
      "Epoch   13/20 Cost: 2.203667\n",
      "Epoch   14/20 Cost: 2.203667\n",
      "Epoch   15/20 Cost: 2.203667\n",
      "Epoch   16/20 Cost: 2.203667\n",
      "Epoch   17/20 Cost: 2.203667\n",
      "Epoch   18/20 Cost: 2.203667\n",
      "Epoch   19/20 Cost: 2.203667\n",
      "Accuracy: 33.33333333333333% Cost: 1.195187\n"
     ]
    }
   ],
   "source": [
    "import torch\n",
    "import torch.nn as nn\n",
    "import torch.nn.functional as F\n",
    "import torch.optim as optim\n",
    "\n",
    "# For reproducibility\n",
    "torch.manual_seed(1)\n",
    "\n",
    "x_train = torch.FloatTensor([[1,2,1],[1,3,2],[1,3,4],[1,5,5],[1,7,5],[1,2,5],[1,6,6],[1,7,7]])\n",
    "y_train = torch.LongTensor([2,2,2,1,1,1,0,0])\n",
    "\n",
    "x_test = torch.FloatTensor([[2,1,1],[3,1,2,],[3,3,4]])\n",
    "y_test = torch.LongTensor([2,2,2])\n",
    "\n",
    "class SoftmaxClassifierModel(nn.Module):\n",
    "    def __init__(self):\n",
    "        super().__init__()\n",
    "        self.linear = nn.Linear(3,3)\n",
    "    def forward(self, x):\n",
    "        return self.linear(x)\n",
    "\n",
    "model = SoftmaxClassifierModel()\n",
    "\n",
    "# optimizer 설정\n",
    "\n",
    "optimizer = optim.SGD(model.parameters(), lr=1e-10)\n",
    "\n",
    "\n",
    "def train(model, optimizer, x_train, y_train):\n",
    "    nb_epochs = 20\n",
    "    for epoch in range(nb_epochs):\n",
    "\n",
    "        # H(x) 계산\n",
    "        prediction = model(x_train)\n",
    "\n",
    "        # cost 계산\n",
    "        cost = F.cross_entropy(prediction, y_train)\n",
    "\n",
    "        # cost로 H(x) 개선\n",
    "        optimizer.zero_grad()\n",
    "        cost.backward()\n",
    "        optimizer.step()\n",
    "\n",
    "        print('Epoch {:4d}/{} Cost: {:.6f}'.format(\n",
    "            epoch, nb_epochs, cost.item()\n",
    "        ))\n",
    "\n",
    "\n",
    "def test(model, optimizer, x_test, y_test):\n",
    "    prediction = model(x_test)\n",
    "    predicted_classes = prediction.max(1)[1]\n",
    "    correct_count = (predicted_classes == y_test).sum().item()\n",
    "    cost = F.cross_entropy(prediction, y_test)\n",
    "\n",
    "    print('Accuracy: {}% Cost: {:.6f}'.format(\n",
    "         correct_count / len(y_test) * 100, cost.item()\n",
    "    ))\n",
    "\n",
    "\n",
    "train(model, optimizer, x_train, y_train)\n",
    "\n",
    "test(model, optimizer, x_test, y_test)\n"
   ]
  },
  {
   "cell_type": "code",
   "execution_count": 82,
   "metadata": {},
   "outputs": [
    {
     "name": "stdout",
     "output_type": "stream",
     "text": [
      "Epoch    0/20 Cost: 1.280268\n",
      "Epoch    1/20 Cost: 1.007498\n",
      "Epoch    2/20 Cost: 0.999968\n",
      "Epoch    3/20 Cost: 0.992704\n",
      "Epoch    4/20 Cost: 0.985657\n",
      "Epoch    5/20 Cost: 0.978815\n",
      "Epoch    6/20 Cost: 0.972169\n",
      "Epoch    7/20 Cost: 0.965708\n",
      "Epoch    8/20 Cost: 0.959425\n",
      "Epoch    9/20 Cost: 0.953312\n",
      "Epoch   10/20 Cost: 0.947360\n",
      "Epoch   11/20 Cost: 0.941562\n",
      "Epoch   12/20 Cost: 0.935913\n",
      "Epoch   13/20 Cost: 0.930405\n",
      "Epoch   14/20 Cost: 0.925033\n",
      "Epoch   15/20 Cost: 0.919792\n",
      "Epoch   16/20 Cost: 0.914675\n",
      "Epoch   17/20 Cost: 0.909678\n",
      "Epoch   18/20 Cost: 0.904796\n",
      "Epoch   19/20 Cost: 0.900025\n"
     ]
    }
   ],
   "source": [
    "model = SoftmaxClassifierModel()\n",
    "optimizer = optim.SGD(model.parameters(), lr=1e-1)\n",
    "train(model, optimizer, x_train, y_train)"
   ]
  },
  {
   "attachments": {},
   "cell_type": "markdown",
   "metadata": {},
   "source": [
    "<span style=\"color:orange\">Data Preprocessing 전처리</span>"
   ]
  },
  {
   "cell_type": "code",
   "execution_count": 83,
   "metadata": {},
   "outputs": [
    {
     "name": "stdout",
     "output_type": "stream",
     "text": [
      "tensor([[-1.0674, -0.3758, -0.8398],\n",
      "        [ 0.7418,  0.2778,  0.5863],\n",
      "        [ 0.3799,  0.5229,  0.3486],\n",
      "        [ 1.0132,  1.0948,  1.1409],\n",
      "        [-1.0674, -1.5197, -1.2360]])\n"
     ]
    }
   ],
   "source": [
    "x_train = torch.FloatTensor([[73, 80, 75],[93, 88, 93],[89, 91, 90],[96, 98, 100],[73, 66, 70]])\n",
    "y_train = torch.FloatTensor([[152],[185],[180],[196],[142]])\n",
    "\n",
    "mu = x_train.mean(dim=0)\n",
    "sigma = x_train.std(dim=0)\n",
    "norm_x_train = (x_train - mu) / sigma\n",
    "print(norm_x_train)"
   ]
  },
  {
   "cell_type": "code",
   "execution_count": 90,
   "metadata": {},
   "outputs": [
    {
     "name": "stdout",
     "output_type": "stream",
     "text": [
      "Epoch    0/20 Cost: 29785.089844\n",
      "Epoch    1/20 Cost: 18906.166016\n",
      "Epoch    2/20 Cost: 12054.675781\n",
      "Epoch    3/20 Cost: 7702.029785\n",
      "Epoch    4/20 Cost: 4925.733398\n",
      "Epoch    5/20 Cost: 3151.632812\n",
      "Epoch    6/20 Cost: 2016.996094\n",
      "Epoch    7/20 Cost: 1291.051270\n",
      "Epoch    8/20 Cost: 826.505249\n",
      "Epoch    9/20 Cost: 529.207397\n",
      "Epoch   10/20 Cost: 338.934174\n",
      "Epoch   11/20 Cost: 217.153564\n",
      "Epoch   12/20 Cost: 139.206680\n",
      "Epoch   13/20 Cost: 89.313782\n",
      "Epoch   14/20 Cost: 57.375465\n",
      "Epoch   15/20 Cost: 36.928429\n",
      "Epoch   16/20 Cost: 23.835773\n",
      "Epoch   17/20 Cost: 15.450429\n",
      "Epoch   18/20 Cost: 10.077809\n",
      "Epoch   19/20 Cost: 6.633700\n"
     ]
    }
   ],
   "source": [
    "class MultivariateLinearRegressionModel(nn.Module):\n",
    "    def __init__(self):\n",
    "        super().__init__()\n",
    "        self.linear = nn.Linear(3,1)\n",
    "\n",
    "    def forward(self, x):\n",
    "        return self.linear(x)\n",
    "\n",
    "model = MultivariateLinearRegressionModel()\n",
    "\n",
    "optimizer = optim.SGD(model.parameters(), lr=1e-1)\n",
    "\n",
    "def train(model, optimizer, x_train, y_train):\n",
    "    nb_epochs = 20\n",
    "    for epoch in range(nb_epochs):\n",
    "\n",
    "        # H(x) 계산\n",
    "        prediction = model(x_train)\n",
    "\n",
    "        # cost 계산\n",
    "        cost = F.mse_loss(prediction, y_train)\n",
    "\n",
    "        # cost로 H(x) 개선\n",
    "        optimizer.zero_grad()\n",
    "        cost.backward()\n",
    "        optimizer.step()\n",
    "\n",
    "        print('Epoch {:4d}/{} Cost: {:.6f}'.format(\n",
    "            epoch, nb_epochs, cost.item()\n",
    "        ))\n",
    "\n",
    "\n",
    "train(model, optimizer, norm_x_train, y_train)"
   ]
  }
 ],
 "metadata": {
  "kernelspec": {
   "display_name": "YR",
   "language": "python",
   "name": "python3"
  },
  "language_info": {
   "codemirror_mode": {
    "name": "ipython",
    "version": 3
   },
   "file_extension": ".py",
   "mimetype": "text/x-python",
   "name": "python",
   "nbconvert_exporter": "python",
   "pygments_lexer": "ipython3",
   "version": "3.10.8 | packaged by conda-forge | (main, Nov 24 2022, 14:07:00) [MSC v.1916 64 bit (AMD64)]"
  },
  "orig_nbformat": 4,
  "vscode": {
   "interpreter": {
    "hash": "f98b6de47e45c0c2e82a5fa9e009243ba98ceceb42e289a1dc259a9ce58f3f1a"
   }
  }
 },
 "nbformat": 4,
 "nbformat_minor": 2
}
